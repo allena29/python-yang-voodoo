{
 "cells": [
  {
   "cell_type": "markdown",
   "metadata": {},
   "source": [
    "Note:\n",
    "\n",
    "This workbook is a combination of documentation and python code - work from the top of the page and hit `Shift + Enter` to execute the cell.\n",
    "\n",
    "Experiment as much as you like - if you make a mistake use 'File/Revert to Checkpoint'\n",
    "\n",
    "You can tell a cell which has *code* because it has `In [  ]:` in the left margin - if there is no number it has never been executed, the number shows the sequence of execution. \n",
    "\n",
    "Any output from executing the cell is shown underneath."
   ]
  },
  {
   "cell_type": "markdown",
   "metadata": {},
   "source": [
    "# Example 1\n",
    "\n",
    "\n",
    "### Import \n",
    "\n",
    "Import the yangvoodoo module which provides access to the yang module"
   ]
  },
  {
   "cell_type": "code",
   "execution_count": null,
   "metadata": {},
   "outputs": [],
   "source": [
    "import yangvoodoo\n",
    "print(yangvoodoo)"
   ]
  },
  {
   "cell_type": "markdown",
   "metadata": {},
   "source": [
    "###  Create Session\n",
    "\n",
    "The session is a transaction, which could be to a YANG compliant backend datastore, or could as in this example be a stub which mimics the behaviour for testing. This may be less precise."
   ]
  },
  {
   "cell_type": "code",
   "execution_count": null,
   "metadata": {},
   "outputs": [],
   "source": [
    "session = yangvoodoo.DataAccess(use_stub=True)\n",
    "print(session)"
   ]
  },
  {
   "cell_type": "markdown",
   "metadata": {},
   "source": [
    "### Connecting to a YANG Module\n",
    "\n",
    "Each session has a 1:1 mapping with a specific YANG module.\n"
   ]
  },
  {
   "cell_type": "code",
   "execution_count": null,
   "metadata": {},
   "outputs": [],
   "source": [
    "connection_status = session.connect(\"integrationtest\", yang_location=\"/working/yang/\")\n",
    "print(connection_status)"
   ]
  },
  {
   "cell_type": "markdown",
   "metadata": {},
   "source": [
    "### Getting the top level section of the YANG module\n",
    "\n",
    "We can connect and receive the top-level node from the yang module."
   ]
  },
  {
   "cell_type": "code",
   "execution_count": null,
   "metadata": {},
   "outputs": [],
   "source": [
    "top_node = session.get_node()\n",
    "print(top_node)"
   ]
  },
  {
   "cell_type": "markdown",
   "metadata": {},
   "source": [
    "### Finiding a way around the YANG Module"
   ]
  },
  {
   "cell_type": "code",
   "execution_count": null,
   "metadata": {},
   "outputs": [],
   "source": [
    "print(session.tree())"
   ]
  },
  {
   "cell_type": "markdown",
   "metadata": {},
   "source": [
    "### Containing vs Terminating Nodes\n",
    "\n",
    "Within YANG modules we can talk about\n",
    "\n",
    "- **Containing** nodes - Containers, Lists, Leaf-Lists, Cases - if we access these we are given an object. \n",
    "- **Terminating** nodes - Leaves - if we access these we are given a value\n",
    "\n",
    "The YANG module has a container /morecomplex  if we access this we get a **Container** object.\n",
    "\n",
    "If we print an object the library will provide us details about the type of the object."
   ]
  },
  {
   "cell_type": "code",
   "execution_count": null,
   "metadata": {},
   "outputs": [],
   "source": [
    "morecomplex = top_node.morecomplex\n",
    "print(morecomplex)\n",
    "\n",
    "inner = morecomplex.inner\n",
    "print(inner)\n"
   ]
  },
  {
   "cell_type": "markdown",
   "metadata": {},
   "source": [
    "# Setting Values"
   ]
  },
  {
   "cell_type": "code",
   "execution_count": null,
   "metadata": {},
   "outputs": [],
   "source": [
    "top_node.morecomplex.leaf2 = True"
   ]
  },
  {
   "cell_type": "markdown",
   "metadata": {},
   "source": [
    "# XPATH\n",
    "\n",
    "The datastore stored data based on XPATH key/value pairs. \n",
    "\n",
    "An XPATH encodes the full path through the YANG schema"
   ]
  },
  {
   "cell_type": "code",
   "execution_count": null,
   "metadata": {},
   "outputs": [],
   "source": [
    "session.dump_xpaths()\n",
    "\n"
   ]
  },
  {
   "cell_type": "markdown",
   "metadata": {},
   "source": [
    "# Disconnecting"
   ]
  },
  {
   "cell_type": "code",
   "execution_count": null,
   "metadata": {},
   "outputs": [],
   "source": [
    "session.disconnect()"
   ]
  }
 ],
 "metadata": {
  "kernelspec": {
   "display_name": "Python 3",
   "language": "python",
   "name": "python3"
  },
  "language_info": {
   "codemirror_mode": {
    "name": "ipython",
    "version": 3
   },
   "file_extension": ".py",
   "mimetype": "text/x-python",
   "name": "python",
   "nbconvert_exporter": "python",
   "pygments_lexer": "ipython3",
   "version": "3.7.3"
  }
 },
 "nbformat": 4,
 "nbformat_minor": 2
}
