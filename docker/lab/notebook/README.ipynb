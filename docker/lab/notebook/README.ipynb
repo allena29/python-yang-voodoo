{
 "cells": [
  {
   "cell_type": "markdown",
   "metadata": {},
   "source": [
    "#### About Jupyter\n",
    "\n",
    "Jupyter is an interactive web-based editor which mixes documentation with Python code.\n",
    "\n",
    "A Notebook is split into **cells**|- the up/down cursor keys can be used to select a cell.\n",
    "When a cell is selected the left hand side will either have a **GREEN** band or a **BLUE** band.\n",
    "\n",
    "- Green means edit mode, the escape key will escape/*exit* to view mode\n",
    "- Blue means view mode, the enter key will enter edit mode (in view mode press `p` to see keyboard shortcuts)\n",
    "\n",
    "\n",
    "Each cell is either documentation or code.\n",
    "\n",
    "- **Python Code** cells, you will see the following in the left margin.\n",
    "  - `In [  ]:` this cell has not been run yet.\n",
    "  - `In [nn]:` this cell has been executed, the number in the square brackets in the sequence number.\n",
    "    (Note: you can execute code in any order - but in general execute top-to-bottom, although if you only want to correct a typo just re-excute that cell with `<shift>+<enter>`.\n",
    "  - The text underneath a section of code is the result (if any) from the last execution.\n",
    "  - If you are editing a cell containing python hit `<shift>+enter` to execute, or `escape` to exit without executing.\n",
    "  \n",
    "- **Documentation** cells use the Markdown syntax, if you are in edit mode hit `<shift>+enter` to convert to the formatted text.\n",
    "\n",
    "\n",
    "Other helpful keyboard shortcuts\n",
    " - `<space>` navigate to the bottom of the notebook, `<shift>+<space>` navigate to the top of the notebook\n",
    " - `c` restart the kernel clear all outputs from the notebook. **Important:** before executing anything new wait for the **Kernel Ready** to be shown in the top right corner - or count to 10. If you are importing code from other modules those changes will not take effect without the kernel restarting.\n",
    " - `r` run all outputs from the top\n",
    " - `k` kill the kernel - if you are finished with this page - it will free up memory."
   ]
  },
  {
   "cell_type": "markdown",
   "metadata": {},
   "source": [
    "# Hello World\n",
    "\n",
    "Typically languages give the basic introduction as a **Hello World** program, this is super simple in python."
   ]
  },
  {
   "cell_type": "code",
   "execution_count": null,
   "metadata": {},
   "outputs": [],
   "source": [
    "print(\"Hello World!\")"
   ]
  },
  {
   "cell_type": "markdown",
   "metadata": {},
   "source": [
    "# Python Version 2\n",
    "\n",
    "This notebook provides a very basic recap about python syntax.\n",
    "\n",
    "At the time of writing there were not many days left before *Python 2* is end-of-life - therefore all these tutorials are based around Python 3.\n",
    "\n",
    "The most apparent difference is that print statements must be wrapped in brackets `print(\"hello world\")`\n"
   ]
  },
  {
   "cell_type": "code",
   "execution_count": null,
   "metadata": {},
   "outputs": [],
   "source": [
    "import time\n",
    "\n",
    "this_page_was_written = time.ctime(1561744618)\n",
    "print(\"This page was written:\", this_page_was_written)\n",
    "\n",
    "python2_end_of_life = 1577836800\n",
    "print(\"Python 2.7 is end of life:\", time.ctime(python2_end_of_life))\n",
    "\n",
    "if time.time() > python2_end_of_life:\n",
    "    raise ValueError(\"Python 2.7 is already end of life!\")\n",
    "    \n",
    "print(\"Number of seconds before Python 2.7 end of life\", python2_end_of_life - time.time())\n",
    "\n"
   ]
  },
  {
   "cell_type": "markdown",
   "metadata": {},
   "source": [
    "# Performance\n",
    "\n",
    "There are no magic unicorns on Jupyter, this all runs on a server which may not keep your data safe - the password is only in place to stop people accidently opening the wrong notebook.\n",
    "\n",
    "The server behind creates a *Kernel* which executes your python code, when you press the `C` button it runs **Kernel/Restart & Clear Output**. This is slower but does ensure you start from the begining each time - you can choose to run a single cell with `<shift>+<enter>`. \n",
    "\n",
    "There are memory, cpu and storage limits, assuming 512Mb of memory writing 6,000,000 entries in memory can exhaust the memory. If your script uses too much memory the Kernel will terminate (freeing the memory) and restart - but you will probably notice the execution of a cell takes a long time befor you use all the memory. \n",
    "\n",
    "In the left hand margin when you see `In [*]` this means the cell is currently executing - you will see any output as it is produced."
   ]
  },
  {
   "cell_type": "code",
   "execution_count": null,
   "metadata": {},
   "outputs": [],
   "source": [
    "import time\n",
    "\n",
    "print(\"start - show how a cell behaves when it takes some time.\")\n",
    "time.sleep(3)\n",
    "print(\"stop\")"
   ]
  },
  {
   "cell_type": "markdown",
   "metadata": {},
   "source": [
    "# END"
   ]
  }
 ],
 "metadata": {
  "kernelspec": {
   "display_name": "Python 3",
   "language": "python",
   "name": "python3"
  },
  "language_info": {
   "codemirror_mode": {
    "name": "ipython",
    "version": 3
   },
   "file_extension": ".py",
   "mimetype": "text/x-python",
   "name": "python",
   "nbconvert_exporter": "python",
   "pygments_lexer": "ipython3",
   "version": "3.7.3"
  }
 },
 "nbformat": 4,
 "nbformat_minor": 2
}
